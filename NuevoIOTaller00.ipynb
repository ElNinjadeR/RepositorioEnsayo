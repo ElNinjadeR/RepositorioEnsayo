{
  "nbformat": 4,
  "nbformat_minor": 0,
  "metadata": {
    "colab": {
      "provenance": [],
      "authorship_tag": "ABX9TyNARDo/XQug/0SPQgeUDvKf",
      "include_colab_link": true
    },
    "kernelspec": {
      "name": "python3",
      "display_name": "Python 3"
    },
    "language_info": {
      "name": "python"
    }
  },
  "cells": [
    {
      "cell_type": "markdown",
      "metadata": {
        "id": "view-in-github",
        "colab_type": "text"
      },
      "source": [
        "<a href=\"https://colab.research.google.com/github/ElNinjadeR/RepositorioEnsayo/blob/main/NuevoIOTaller00.ipynb\" target=\"_parent\"><img src=\"https://colab.research.google.com/assets/colab-badge.svg\" alt=\"Open In Colab\"/></a>"
      ]
    },
    {
      "cell_type": "code",
      "execution_count": 3,
      "metadata": {
        "colab": {
          "base_uri": "https://localhost:8080/"
        },
        "id": "YGDnebVixUYS",
        "outputId": "fbf0dae3-9914-45c1-a4bb-58bfbe95fdee"
      },
      "outputs": [
        {
          "output_type": "stream",
          "name": "stdout",
          "text": [
            "Hola mundo\n"
          ]
        }
      ],
      "source": [
        "x=\"Hola mundo\"\n",
        "print(x)\n"
      ]
    },
    {
      "cell_type": "code",
      "source": [
        "print(\"Hola, mundo\")\n",
        "()\n"
      ],
      "metadata": {
        "colab": {
          "base_uri": "https://localhost:8080/"
        },
        "id": "MHY6Zsz5x1DM",
        "outputId": "8130e1d6-16ea-4d89-cec8-147a202fa728"
      },
      "execution_count": 4,
      "outputs": [
        {
          "output_type": "stream",
          "name": "stdout",
          "text": [
            "Hola, mundo\n"
          ]
        }
      ]
    },
    {
      "cell_type": "code",
      "source": [
        "#\"HELLO\""
      ],
      "metadata": {
        "id": "r-BlfTOEzjNZ"
      },
      "execution_count": 5,
      "outputs": []
    }
  ]
}